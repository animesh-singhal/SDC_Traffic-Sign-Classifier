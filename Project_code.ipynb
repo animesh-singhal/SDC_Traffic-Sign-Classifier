{
 "cells": [
  {
   "cell_type": "markdown",
   "metadata": {},
   "source": [
    "# Self-Driving Car Engineer Nanodegree\n",
    "\n",
    "## Deep Learning\n",
    "\n",
    "## Project: Build a Traffic Sign Recognition Classifier\n",
    "\n",
    "In this notebook, a template is provided for you to implement your functionality in stages, which is required to successfully complete this project. If additional code is required that cannot be included in the notebook, be sure that the Python code is successfully imported and included in your submission if necessary. \n",
    "\n",
    "> **Note**: Once you have completed all of the code implementations, you need to finalize your work by exporting the iPython Notebook as an HTML document. Before exporting the notebook to html, all of the code cells need to have been run so that reviewers can see the final implementation and output. You can then export the notebook by using the menu above and navigating to  \\n\",\n",
    "    \"**File -> Download as -> HTML (.html)**. Include the finished document along with this notebook as your submission. \n",
    "\n",
    "In addition to implementing code, there is a writeup to complete. The writeup should be completed in a separate file, which can be either a markdown file or a pdf document. There is a [write up template](https://github.com/udacity/CarND-Traffic-Sign-Classifier-Project/blob/master/writeup_template.md) that can be used to guide the writing process. Completing the code template and writeup template will cover all of the [rubric points](https://review.udacity.com/#!/rubrics/481/view) for this project.\n",
    "\n",
    "The [rubric](https://review.udacity.com/#!/rubrics/481/view) contains \"Stand Out Suggestions\" for enhancing the project beyond the minimum requirements. The stand out suggestions are optional. If you decide to pursue the \"stand out suggestions\", you can include the code in this Ipython notebook and also discuss the results in the writeup file.\n",
    "\n",
    "\n",
    ">**Note:** Code and Markdown cells can be executed using the **Shift + Enter** keyboard shortcut. In addition, Markdown cells can be edited by typically double-clicking the cell to enter edit mode."
   ]
  },
  {
   "cell_type": "markdown",
   "metadata": {},
   "source": [
    "---\n",
    "## Step 0: Load The Data"
   ]
  },
  {
   "cell_type": "code",
   "execution_count": 4,
   "metadata": {},
   "outputs": [],
   "source": [
    "# Load pickled data\n",
    "import pickle\n",
    "import numpy as np\n",
    "\n",
    "\n",
    "# TODO: Fill this in based on where you saved the training and testing data\n",
    "\n",
    "training_file = '../data/train.p'\n",
    "validation_file= '../data/valid.p'\n",
    "testing_file = '../data/test.p'\n",
    "\n",
    "with open(training_file, mode='rb') as f:\n",
    "    train = pickle.load(f)\n",
    "with open(validation_file, mode='rb') as f:\n",
    "    valid = pickle.load(f)\n",
    "with open(testing_file, mode='rb') as f:\n",
    "    test = pickle.load(f)\n",
    "    \n",
    "X_train_features, y_train = train['features'], train['labels']\n",
    "X_valid_features, y_valid = valid['features'], valid['labels']\n",
    "X_test_features, y_test = test['features'], test['labels']\n",
    "\n"
   ]
  },
  {
   "cell_type": "markdown",
   "metadata": {},
   "source": [
    "\n",
    "---\n",
    "\n",
    "## Step 1: Dataset Summary & Exploration\n",
    "\n",
    "The pickled data is a dictionary with 4 key/value pairs:\n",
    "\n",
    "- `'features'` is a 4D array containing raw pixel data of the traffic sign images, (num examples, width, height, channels).\n",
    "- `'labels'` is a 1D array containing the label/class id of the traffic sign. The file `signnames.csv` contains id -> name mappings for each id.\n",
    "- `'sizes'` is a list containing tuples, (width, height) representing the original width and height the image.\n",
    "- `'coords'` is a list containing tuples, (x1, y1, x2, y2) representing coordinates of a bounding box around the sign in the image. **THESE COORDINATES ASSUME THE ORIGINAL IMAGE. THE PICKLED DATA CONTAINS RESIZED VERSIONS (32 by 32) OF THESE IMAGES**\n",
    "\n",
    "Complete the basic data summary below. Use python, numpy and/or pandas methods to calculate the data summary rather than hard coding the results. For example, the [pandas shape method](http://pandas.pydata.org/pandas-docs/stable/generated/pandas.DataFrame.shape.html) might be useful for calculating some of the summary results. "
   ]
  },
  {
   "cell_type": "markdown",
   "metadata": {},
   "source": [
    "### Provide a Basic Summary of the Data Set Using Python, Numpy and/or Pandas"
   ]
  },
  {
   "cell_type": "code",
   "execution_count": 5,
   "metadata": {},
   "outputs": [
    {
     "name": "stdout",
     "output_type": "stream",
     "text": [
      "Number of training examples = 34799\n",
      "Number of validation examples = 4410\n",
      "Number of testing examples = 12630\n",
      "Image data shape = (32, 32, 3)\n",
      "Number of classes = 43\n"
     ]
    }
   ],
   "source": [
    "import pandas as pd\n",
    "\n",
    "# TODO: Number of training examples\n",
    "n_train = len(X_train_features)\n",
    "\n",
    "# TODO: Number of validation examples\n",
    "n_validation = len(X_valid_features)\n",
    "\n",
    "# TODO: Number of testing examples.\n",
    "n_test = len(X_test_features)\n",
    "\n",
    "# TODO: What's the shape of an traffic sign image?\n",
    "image_shape = X_train_features[0].shape\n",
    "\n",
    "# TODO: How many unique classes/labels there are in the dataset.\n",
    "n_classes = ((pd.read_csv(\"signnames.csv\")).shape)[0]\n",
    "\n",
    "\n",
    "print(\"Number of training examples =\", n_train)\n",
    "print(\"Number of validation examples =\", n_validation)\n",
    "print(\"Number of testing examples =\", n_test)\n",
    "print(\"Image data shape =\", image_shape)\n",
    "print(\"Number of classes =\", n_classes)"
   ]
  },
  {
   "cell_type": "markdown",
   "metadata": {},
   "source": [
    "### Include an exploratory visualization of the dataset"
   ]
  },
  {
   "cell_type": "markdown",
   "metadata": {},
   "source": [
    "Visualize the German Traffic Signs Dataset using the pickled file(s). This is open ended, suggestions include: plotting traffic sign images, plotting the count of each sign, etc. \n",
    "\n",
    "The [Matplotlib](http://matplotlib.org/) [examples](http://matplotlib.org/examples/index.html) and [gallery](http://matplotlib.org/gallery.html) pages are a great resource for doing visualizations in Python.\n",
    "\n",
    "**NOTE:** It's recommended you start with something simple first. If you wish to do more, come back to it after you've completed the rest of the sections. It can be interesting to look at the distribution of classes in the training, validation and test set. Is the distribution the same? Are there more examples of some classes than others?"
   ]
  },
  {
   "cell_type": "code",
   "execution_count": 6,
   "metadata": {},
   "outputs": [
    {
     "name": "stdout",
     "output_type": "stream",
     "text": [
      "8\n",
      "Speed limit (120km/h)\n"
     ]
    },
    {
     "data": {
      "image/png": "[encoded data removed]",
      "text/plain": [
       "<matplotlib.figure.Figure at 0x7f4f303c8cf8>"
      ]
     },
     "metadata": {
      "needs_background": "light"
     },
     "output_type": "display_data"
    }
   ],
   "source": [
    "import random\n",
    "import numpy as np\n",
    "import matplotlib.pyplot as plt\n",
    "import pandas as pd\n",
    "\n",
    "# Visualizations will be shown in the notebook.\n",
    "%matplotlib inline\n",
    "\n",
    "index = random.randint(0, len(X_train_features))\n",
    "image = X_train_features[index].squeeze()\n",
    "\n",
    "plt.figure(figsize=(1,1))\n",
    "plt.imshow(image)\n",
    "print(y_train[index])\n",
    "\n",
    "signs = pd.read_csv(\"signnames.csv\",squeeze=True, usecols=[\"SignName\"])\n",
    "print(signs[(y_train[index])])    # y_train[index] will contain the class-code. \n",
    "                                  # We're trying to get the name corresponsing to the class-code here\n"
   ]
  },
  {
   "cell_type": "markdown",
   "metadata": {},
   "source": [
    "### Visualizing the number of images of each type relative to each other"
   ]
  },
  {
   "cell_type": "code",
   "execution_count": 7,
   "metadata": {},
   "outputs": [
    {
     "data": {
      "text/plain": [
       "<Container object of 43 artists>"
      ]
     },
     "execution_count": 7,
     "metadata": {},
     "output_type": "execute_result"
    },
    {
     "data": {
      "image/png": "[encoded data removed]",
      "text/plain": [
       "<matplotlib.figure.Figure at 0x7f4f3044ab70>"
      ]
     },
     "metadata": {
      "needs_background": "light"
     },
     "output_type": "display_data"
    }
   ],
   "source": [
    "counter = np.zeros(43, np.int)\n",
    "\n",
    "for i in y_train:\n",
    "    counter[i]+=1\n",
    "    \n",
    "\"\"\"\n",
    "Working of the above code piece with an example\n",
    "y_train = [0,3,4,8,7,1,3,8,3,0,3,6,3,1,0,9,1,1,2,4,7,9,0]    #Example\n",
    "counter[0]+=1\n",
    "counter[3]+=1\n",
    "counter[4]+=1\n",
    "So for each class, it'll update the counter whenever there's an iamge of that class\n",
    "\"\"\"\n",
    "\n",
    "image_num = np.arange(start=0, stop=43, step=1)\n",
    "\n",
    "\n",
    "#plt.plot(values,avg_valid_reads,'o-')\n",
    "plt.bar(image_num,counter,color=['blue'])\n"
   ]
  },
  {
   "cell_type": "code",
   "execution_count": 8,
   "metadata": {},
   "outputs": [
    {
     "data": {
      "text/plain": [
       "0    Speed limit (20km/h)\n",
       "1    Speed limit (30km/h)\n",
       "2    Speed limit (50km/h)\n",
       "3    Speed limit (60km/h)\n",
       "4    Speed limit (70km/h)\n",
       "Name: SignName, dtype: object"
      ]
     },
     "execution_count": 8,
     "metadata": {},
     "output_type": "execute_result"
    }
   ],
   "source": [
    "import pandas as pd\n",
    "signs = pd.read_csv(\"signnames.csv\",squeeze=True, usecols=[\"SignName\"])\n",
    "signs.head()"
   ]
  },
  {
   "cell_type": "code",
   "execution_count": 9,
   "metadata": {},
   "outputs": [
    {
     "data": {
      "text/plain": [
       "'width=5\\nheight=5\\nrows = 2\\ncols = 2\\naxes=[]\\nfig=plt.figure()\\n\\nfor a in range(rows*cols):\\n    b = np.random.randint(7, size=(height,width))\\n    axes.append( fig.add_subplot(rows, cols, a+1) )\\n    subplot_title=(\"Subplot\"+str(a))\\n    axes[-1].set_title(subplot_title)  \\n    plt.imshow(b)\\nfig.tight_layout()    \\nplt.show()'"
      ]
     },
     "execution_count": 9,
     "metadata": {},
     "output_type": "execute_result"
    }
   ],
   "source": [
    "\"\"\"width=5\n",
    "height=5\n",
    "rows = 2\n",
    "cols = 2\n",
    "axes=[]\n",
    "fig=plt.figure()\n",
    "\n",
    "for a in range(rows*cols):\n",
    "    b = np.random.randint(7, size=(height,width))\n",
    "    axes.append( fig.add_subplot(rows, cols, a+1) )\n",
    "    subplot_title=(\"Subplot\"+str(a))\n",
    "    axes[-1].set_title(subplot_title)  \n",
    "    plt.imshow(b)\n",
    "fig.tight_layout()    \n",
    "plt.show()\"\"\""
   ]
  },
  {
   "cell_type": "code",
   "execution_count": 10,
   "metadata": {},
   "outputs": [
    {
     "data": {
      "image/png": "[encoded data removed]",
      "text/plain": [
       "<matplotlib.figure.Figure at 0x7f4f30469550>"
      ]
     },
     "metadata": {
      "needs_background": "light"
     },
     "output_type": "display_data"
    }
   ],
   "source": [
    "from sklearn.utils import shuffle\n",
    "import numpy as np\n",
    "import matplotlib.pyplot as plt\n",
    "\n",
    "X_train_features, y_train = shuffle(X_train_features, y_train)\n",
    "\n",
    "rows = 5\n",
    "cols = 9\n",
    "\n",
    "plt.figure(figsize=(rows,cols)) # specifying the overall grid size\n",
    "\n",
    "for img_code,sign_name in enumerate(signs):\n",
    "    image_index = np.where(y_train==img_code)\n",
    "    image = X_train_features[image_index[0][0]]\n",
    "    \n",
    "    plt.subplot(rows,cols,img_code+1)\n",
    "    plt.imshow(image)\n",
    "\n",
    "plt.show() "
   ]
  },
  {
   "cell_type": "code",
   "execution_count": 8,
   "metadata": {},
   "outputs": [
    {
     "data": {
      "text/plain": [
       "'test = np.array([3,3,3,5,7,9,1,1,2,3,1,1,6,4,5,2,7])\\nitemindex = np.where(test==1)\\nprint(itemindex[0])'"
      ]
     },
     "execution_count": 8,
     "metadata": {},
     "output_type": "execute_result"
    }
   ],
   "source": [
    "\"\"\"test = np.array([3,3,3,5,7,9,1,1,2,3,1,1,6,4,5,2,7])\n",
    "itemindex = np.where(test==1)\n",
    "print(itemindex[0])\"\"\""
   ]
  },
  {
   "cell_type": "markdown",
   "metadata": {},
   "source": [
    "----\n",
    "\n",
    "## Step 2: Design and Test a Model Architecture\n",
    "\n",
    "Design and implement a deep learning model that learns to recognize traffic signs. Train and test your model on the [German Traffic Sign Dataset](http://benchmark.ini.rub.de/?section=gtsrb&subsection=dataset).\n",
    "\n",
    "The LeNet-5 implementation shown in the [classroom](https://classroom.udacity.com/nanodegrees/nd013/parts/fbf77062-5703-404e-b60c-95b78b2f3f9e/modules/6df7ae49-c61c-4bb2-a23e-6527e69209ec/lessons/601ae704-1035-4287-8b11-e2c2716217ad/concepts/d4aca031-508f-4e0b-b493-e7b706120f81) at the end of the CNN lesson is a solid starting point. You'll have to change the number of classes and possibly the preprocessing, but aside from that it's plug and play! \n",
    "\n",
    "With the LeNet-5 solution from the lecture, you should expect a validation set accuracy of about 0.89. To meet specifications, the validation set accuracy will need to be at least 0.93. It is possible to get an even higher accuracy, but 0.93 is the minimum for a successful project submission. \n",
    "\n",
    "There are various aspects to consider when thinking about this problem:\n",
    "\n",
    "- Neural network architecture (is the network over or underfitting?)\n",
    "- Play around preprocessing techniques (normalization, rgb to grayscale, etc)\n",
    "- Number of examples per label (some have more than others).\n",
    "- Generate fake data.\n",
    "\n",
    "Here is an example of a [published baseline model on this problem](http://yann.lecun.com/exdb/publis/pdf/sermanet-ijcnn-11.pdf). It's not required to be familiar with the approach used in the paper but, it's good practice to try to read papers like these."
   ]
  },
  {
   "cell_type": "markdown",
   "metadata": {},
   "source": [
    "### Pre-process the Data Set (normalization, grayscale, etc.)"
   ]
  },
  {
   "cell_type": "markdown",
   "metadata": {},
   "source": [
    "Minimally, the image data should be normalized so that the data has mean zero and equal variance. For image data, `(pixel - 128)/ 128` is a quick way to approximately normalize the data and can be used in this project. \n",
    "\n",
    "Other pre-processing steps are optional. You can try different techniques to see if it improves performance. \n",
    "\n",
    "Use the code cell (or multiple code cells, if necessary) to implement the first step of your project."
   ]
  },
  {
   "cell_type": "code",
   "execution_count": 12,
   "metadata": {},
   "outputs": [
    {
     "name": "stdout",
     "output_type": "stream",
     "text": [
      "25\n"
     ]
    },
    {
     "data": {
      "image/png": "[encoded data removed]",
      "text/plain": [
       "<matplotlib.figure.Figure at 0x7f4f2d031f60>"
      ]
     },
     "metadata": {
      "needs_background": "light"
     },
     "output_type": "display_data"
    }
   ],
   "source": [
    "### Preprocess the data here. It is required to normalize the data. Other preprocessing steps could include \n",
    "### converting to grayscale, etc.\n",
    "### Feel free to use as many code cells as needed.\n",
    "\n",
    "import tensorflow as tf\n",
    "from sklearn.utils import shuffle\n",
    "\n",
    "X_train_features, y_train = shuffle(X_train_features, y_train)\n",
    "\n",
    "weights = [0.2989, 0.5870, 0.1140]\n",
    "def normalize(data):\n",
    "    m = len(data)\n",
    "    temp = np.zeros((m,32,32))      # An array created to hold the data of normalized gray scale images.\n",
    "    \n",
    "    for image in range(m):          # Looping on the samples one by one\n",
    "        for channel in range(3):    # Taking data from each of teh 3 channel per image \n",
    "            intensity = (data[image][:,:,channel])\n",
    "            temp[image] += ((intensity)*(weights[channel]))    # Using it to create grayscale image\n",
    "        temp[image] = (temp[image] - 128)/255                  # Normalizing the grayscale image\n",
    "    \n",
    "    return np.reshape(temp,(m,32,32,1))   # Reshaping in a format accepted by the Neural network architecture below\n",
    "\n",
    "X_train = normalize(X_train_features)\n",
    "X_valid = normalize(X_valid_features)\n",
    "X_test = normalize(X_test_features)\n",
    "\n",
    "\n",
    "\"\"\"Showing sample from the process training set. Result will be normalized grayscale image\"\"\"\n",
    "#Visualizing grayscale result\n",
    "index = random.randint(0, len(X_train))\n",
    "image = X_train[index].squeeze()\n",
    "\n",
    "plt.figure(figsize=(1,1))\n",
    "plt.imshow(image, cmap=\"gray\")\n",
    "print(y_train[index])\n"
   ]
  },
  {
   "cell_type": "code",
   "execution_count": 10,
   "metadata": {},
   "outputs": [
    {
     "data": {
      "text/plain": [
       "'a = np.zeros((2,4))\\nprint(a)\\nnp.reshape(a, (2,4,1))'"
      ]
     },
     "execution_count": 10,
     "metadata": {},
     "output_type": "execute_result"
    }
   ],
   "source": [
    "# Cell for rough work\n",
    "\"\"\"a = np.zeros((2,4))\n",
    "print(a)\n",
    "np.reshape(a, (2,4,1))\"\"\""
   ]
  },
  {
   "cell_type": "markdown",
   "metadata": {},
   "source": [
    "### Model Architecture"
   ]
  },
  {
   "cell_type": "code",
   "execution_count": 11,
   "metadata": {},
   "outputs": [],
   "source": [
    "### Defining your architecture here."
   ]
  },
  {
   "cell_type": "code",
   "execution_count": 13,
   "metadata": {},
   "outputs": [],
   "source": [
    "from tensorflow.contrib.layers import flatten\n",
    "\n",
    "def LeNet(x, dropout):    \n",
    "    # Arguments used for tf.truncated_normal, randomly defines variables for the weights and biases for each layer\n",
    "    mu = 0\n",
    "    sigma = 0.1\n",
    "    \n",
    "    \"\"\"\n",
    "    As we are using LeNet architecture here, we know the dimensions of every layer that'll be used. \n",
    "    Our task would be to find out values of k, s, p between each layer and build the architecture. Where,\n",
    "    k= kernel dimensions\n",
    "    s= stride \n",
    "    p= padding\n",
    "    \"\"\"\n",
    "    \n",
    "    # SOLUTION: Layer 1: Convolutional. Input = 32x32x1. Output = 28x28x6.\n",
    "    \"\"\"\n",
    "    Applying formula: new_height = (input_height - filter_height + 2 * P)/S + 1\n",
    "    28= ( 32 - k + 2*0 )/s + 1    #Solution s=1, k=5\n",
    "    Note: p=0 because the height and width of output layer is changing (we call this valid padding)\n",
    "    If the input & output layers have same width & heights, we call it Same padding. It that case, p(nonzero) is adjustable to achieve this. \n",
    "    So, kernel shape will be 5x5. There will be 6 kernels like this because output is 28x28x6. \n",
    "    \"\"\"\n",
    "    conv1_W = tf.Variable(tf.truncated_normal(shape=(5, 5, 1, 6), mean = mu, stddev = sigma))\n",
    "    conv1_b = tf.Variable(tf.zeros(6))\n",
    "    conv1   = tf.nn.conv2d(x, conv1_W, strides=[1, 1, 1, 1], padding='VALID') + conv1_b\n",
    "\n",
    "    # SOLUTION: Activation.\n",
    "    conv1 = tf.nn.relu(conv1)\n",
    "\n",
    "    # SOLUTION: Pooling. Input = 28x28x6. Output = 14x14x6.\n",
    "    \"\"\"\n",
    "    14= ( 28 - k + 2*0 )/s + 1    # Solution [s=1, k=15] or [s=2, k=2]. Choosing 2nd alternative \n",
    "    \"\"\"\n",
    "    conv1 = tf.nn.max_pool(conv1, ksize=[1, 2, 2, 1], strides=[1, 2, 2, 1], padding='VALID')\n",
    "\n",
    "    # SOLUTION: Layer 2: Convolutional. Output = 10x10x16.\n",
    "    \"\"\"\n",
    "    10= ( 14 - k + 2*0 )/s + 1    # Solution [s=1, k=5] \n",
    "    \"\"\"\n",
    "    conv2_W = tf.Variable(tf.truncated_normal(shape=(5, 5, 6, 16), mean = mu, stddev = sigma))\n",
    "    conv2_b = tf.Variable(tf.zeros(16))\n",
    "    conv2   = tf.nn.conv2d(conv1, conv2_W, strides=[1, 1, 1, 1], padding='VALID') + conv2_b\n",
    "    \n",
    "    # SOLUTION: Activation.\n",
    "    conv2 = tf.nn.relu(conv2)\n",
    "\n",
    "    # SOLUTION: Pooling. Input = 10x10x16. Output = 5x5x16.\n",
    "    \"\"\"\n",
    "    5= ( 10 - k + 2*0 )/s + 1    # Solution [s=2, k=2] or [s=1, k=6]. Choosing 1st alternative \n",
    "    \"\"\"\n",
    "    conv2 = tf.nn.max_pool(conv2, ksize=[1, 2, 2, 1], strides=[1, 2, 2, 1], padding='VALID')\n",
    "\n",
    "    # SOLUTION: Flatten. Input = 5x5x16. Output = 400.\n",
    "    fc0   = flatten(conv2)\n",
    "    \n",
    "    # SOLUTION: Layer 3: Fully Connected. Input = 400. Output = 120.\n",
    "    fc1_W = tf.Variable(tf.truncated_normal(shape=(400, 120), mean = mu, stddev = sigma))\n",
    "    fc1_b = tf.Variable(tf.zeros(120))\n",
    "    fc1   = tf.matmul(fc0, fc1_W) + fc1_b\n",
    "    \n",
    "    # SOLUTION: Activation.\n",
    "    fc1    = tf.nn.relu(fc1)\n",
    "    fc1    = tf.nn.dropout(fc1, dropout)\n",
    "\n",
    "    # SOLUTION: Layer 4: Fully Connected. Input = 120. Output = 84.\n",
    "    fc2_W  = tf.Variable(tf.truncated_normal(shape=(120, 84), mean = mu, stddev = sigma))\n",
    "    fc2_b  = tf.Variable(tf.zeros(84))\n",
    "    fc2    = tf.matmul(fc1, fc2_W) + fc2_b\n",
    "    \n",
    "    # SOLUTION: Activation.\n",
    "    fc2    = tf.nn.relu(fc2)\n",
    "    fc2    = tf.nn.dropout(fc2, dropout)\n",
    "\n",
    "    # SOLUTION: Layer 5: Fully Connected. Input = 84. Output = 43 (n_classes).\n",
    "    fc3_W  = tf.Variable(tf.truncated_normal(shape=(84, 43), mean = mu, stddev = sigma))\n",
    "    fc3_b  = tf.Variable(tf.zeros(43))\n",
    "    logits = tf.matmul(fc2, fc3_W) + fc3_b\n",
    "    \n",
    "    \n",
    "    \n",
    "    return logits   #Softmax function will be applied later\n"
   ]
  },
  {
   "cell_type": "markdown",
   "metadata": {},
   "source": [
    "### Train, Validate and Test the Model"
   ]
  },
  {
   "cell_type": "markdown",
   "metadata": {},
   "source": [
    "A validation set can be used to assess how well the model is performing. A low accuracy on the training and validation\n",
    "sets imply underfitting. A high accuracy on the training set but low accuracy on the validation set implies overfitting."
   ]
  },
  {
   "cell_type": "code",
   "execution_count": 13,
   "metadata": {},
   "outputs": [],
   "source": [
    "### Train your model here.\n",
    "### Calculate and report the accuracy on the training and validation set.\n",
    "### Once a final model architecture is selected, \n",
    "### the accuracy on the test set should be calculated and reported as well.\n",
    "### Feel free to use as many code cells as needed."
   ]
  },
  {
   "cell_type": "code",
   "execution_count": 14,
   "metadata": {},
   "outputs": [],
   "source": [
    "\"\"\"\n",
    "Placeholders are created. Samples can be provided to the model using these\n",
    "\"\"\"\n",
    "x = tf.placeholder(tf.float32, (None, 32, 32, 1))   \n",
    "y = tf.placeholder(tf.int32, (None))\n",
    "one_hot_y = tf.one_hot(y, 43)           # One-hot encoding done on the label data  "
   ]
  },
  {
   "cell_type": "code",
   "execution_count": 15,
   "metadata": {},
   "outputs": [],
   "source": [
    "\"\"\"\n",
    "Creating placeholders for 2 hyper-parameters: Learning rate and dropout\n",
    "\"\"\"\n",
    "learning_rate = tf.placeholder(tf.float32)\n",
    "keep_prob = tf.placeholder(tf.float32)      # Stores the tensor value for normalisation probability. \n",
    "                                            # Here, we give prob to keep nodes\n",
    "\n",
    "logits = LeNet(x, keep_prob)   # Getting logits from the model created above. Note: This is not probability \n",
    "\n",
    "\"\"\"\n",
    "Creating loss function and minimizing it using AdamOptimizer\n",
    "\"\"\"\n",
    "cross_entropy = tf.nn.softmax_cross_entropy_with_logits(labels=one_hot_y, logits=logits)   # Softmax is applied within this while calculating cost\n",
    "loss_operation = tf.reduce_mean(cross_entropy)                        # Method to calculate cost  \n",
    "optimizer = tf.train.AdamOptimizer(learning_rate = learning_rate)     # Adam Optimizer used\n",
    "training_operation = optimizer.minimize(loss_operation)               # We need to minimize the cost function"
   ]
  },
  {
   "cell_type": "code",
   "execution_count": 16,
   "metadata": {},
   "outputs": [],
   "source": [
    "\"\"\"\n",
    "Following 2 lines of code are explanation with an example here: (taking the case of 4 classes)\n",
    "logits = [0.42, 0.25, 0.87, 0.65]\n",
    "one_hot_y = [ 0, 0, 1, 0]\n",
    "argmax(logits) = 2, argmax(one_hot_y) = 2 \n",
    "In this case, they are equal. So we'll get a list of values of True/False against each sample\n",
    "Then data type is changed to float using cast function. Finally mean of the list is calculated using reduce_mean\n",
    "eg: [1,0,0,1]. reduce_mean = 0.5\n",
    "This gives us accuracy.\n",
    "\"\"\"\n",
    "\n",
    "correct_prediction = tf.equal(tf.argmax(logits, 1), tf.argmax(one_hot_y, 1))  # Explained above\n",
    "accuracy_operation = tf.reduce_mean(tf.cast(correct_prediction, tf.float32))   # Note how variable is named xyz_operation for future reference\n",
    "saver = tf.train.Saver()\n",
    "\n",
    "def evaluate(X_data, y_data, rate, dropout):\n",
    "    \"\"\"\n",
    "    Defining a function to find accuracy but while handling the data batchwise\n",
    "    \"\"\"\n",
    "    num_examples = len(X_data)\n",
    "    total_accuracy = 0\n",
    "    sess = tf.get_default_session()                    # Takes you to the existing session only instead of starting new session\n",
    "    for offset in range(0, num_examples, BATCH_SIZE):\n",
    "        batch_x, batch_y = X_data[offset:offset+BATCH_SIZE], y_data[offset:offset+BATCH_SIZE]\n",
    "        accuracy = sess.run(accuracy_operation, feed_dict={x: batch_x, y: batch_y, learning_rate: rate, keep_prob: dropout})\n",
    "        total_accuracy += (accuracy * len(batch_x))    # Taking a weighted average accross batches to find final accuracy\n",
    "    return total_accuracy / num_examples               # eg: (0.82*50 + 0.76*70)/120\n"
   ]
  },
  {
   "cell_type": "code",
   "execution_count": 17,
   "metadata": {},
   "outputs": [],
   "source": [
    "\"\"\"\n",
    "Defining values of hyperparameters (which have been fine tuned after an interative process)\n",
    "\"\"\"\n",
    "EPOCHS = 40       # aka iterations \n",
    "BATCH_SIZE = 64   # number of samples/batch. \n",
    "rate = 0.001      # Learning rate\n",
    "dropout = 0.5     # Dropout probability to keep units\n",
    "\n",
    "valid_acc_record = []\n",
    "epochs_record = []"
   ]
  },
  {
   "cell_type": "code",
   "execution_count": 18,
   "metadata": {},
   "outputs": [
    {
     "name": "stdout",
     "output_type": "stream",
     "text": [
      "Training...\n",
      "\n",
      "EPOCH 1 ...\n",
      "Training Accuracy = 0.665\n",
      "Validation Accuracy = 0.619\n",
      "\n",
      "EPOCH 2 ...\n",
      "Training Accuracy = 0.841\n",
      "Validation Accuracy = 0.798\n",
      "\n",
      "EPOCH 3 ...\n",
      "Training Accuracy = 0.911\n",
      "Validation Accuracy = 0.874\n",
      "\n",
      "EPOCH 4 ...\n",
      "Training Accuracy = 0.932\n",
      "Validation Accuracy = 0.888\n",
      "\n",
      "EPOCH 5 ...\n",
      "Training Accuracy = 0.941\n",
      "Validation Accuracy = 0.890\n",
      "\n",
      "EPOCH 6 ...\n",
      "Training Accuracy = 0.954\n",
      "Validation Accuracy = 0.905\n",
      "\n",
      "EPOCH 7 ...\n",
      "Training Accuracy = 0.971\n",
      "Validation Accuracy = 0.931\n",
      "\n",
      "EPOCH 8 ...\n",
      "Training Accuracy = 0.971\n",
      "Validation Accuracy = 0.935\n",
      "\n",
      "EPOCH 9 ...\n",
      "Training Accuracy = 0.976\n",
      "Validation Accuracy = 0.927\n",
      "\n",
      "EPOCH 10 ...\n",
      "Training Accuracy = 0.982\n",
      "Validation Accuracy = 0.944\n",
      "\n",
      "EPOCH 11 ...\n",
      "Training Accuracy = 0.986\n",
      "Validation Accuracy = 0.940\n",
      "\n",
      "EPOCH 12 ...\n",
      "Training Accuracy = 0.985\n",
      "Validation Accuracy = 0.939\n",
      "\n",
      "EPOCH 13 ...\n",
      "Training Accuracy = 0.987\n",
      "Validation Accuracy = 0.941\n",
      "\n",
      "EPOCH 14 ...\n",
      "Training Accuracy = 0.989\n",
      "Validation Accuracy = 0.939\n",
      "\n",
      "EPOCH 15 ...\n",
      "Training Accuracy = 0.990\n",
      "Validation Accuracy = 0.954\n",
      "\n",
      "EPOCH 16 ...\n",
      "Training Accuracy = 0.989\n",
      "Validation Accuracy = 0.942\n",
      "\n",
      "EPOCH 17 ...\n",
      "Training Accuracy = 0.992\n",
      "Validation Accuracy = 0.945\n",
      "\n",
      "EPOCH 18 ...\n",
      "Training Accuracy = 0.993\n",
      "Validation Accuracy = 0.957\n",
      "\n",
      "EPOCH 19 ...\n",
      "Training Accuracy = 0.993\n",
      "Validation Accuracy = 0.948\n",
      "\n",
      "EPOCH 20 ...\n",
      "Training Accuracy = 0.994\n",
      "Validation Accuracy = 0.954\n",
      "\n",
      "EPOCH 21 ...\n",
      "Training Accuracy = 0.993\n",
      "Validation Accuracy = 0.948\n",
      "\n",
      "EPOCH 22 ...\n",
      "Training Accuracy = 0.995\n",
      "Validation Accuracy = 0.954\n",
      "\n",
      "EPOCH 23 ...\n",
      "Training Accuracy = 0.996\n",
      "Validation Accuracy = 0.953\n",
      "\n",
      "EPOCH 24 ...\n",
      "Training Accuracy = 0.996\n",
      "Validation Accuracy = 0.951\n",
      "\n",
      "EPOCH 25 ...\n",
      "Training Accuracy = 0.996\n",
      "Validation Accuracy = 0.953\n",
      "\n",
      "EPOCH 26 ...\n",
      "Training Accuracy = 0.996\n",
      "Validation Accuracy = 0.953\n",
      "\n",
      "EPOCH 27 ...\n",
      "Training Accuracy = 0.996\n",
      "Validation Accuracy = 0.960\n",
      "\n",
      "EPOCH 28 ...\n",
      "Training Accuracy = 0.997\n",
      "Validation Accuracy = 0.954\n",
      "\n",
      "EPOCH 29 ...\n",
      "Training Accuracy = 0.997\n",
      "Validation Accuracy = 0.951\n",
      "\n",
      "EPOCH 30 ...\n",
      "Training Accuracy = 0.997\n",
      "Validation Accuracy = 0.954\n",
      "\n",
      "EPOCH 31 ...\n",
      "Training Accuracy = 0.996\n",
      "Validation Accuracy = 0.954\n",
      "\n",
      "EPOCH 32 ...\n",
      "Training Accuracy = 0.997\n",
      "Validation Accuracy = 0.954\n",
      "\n",
      "EPOCH 33 ...\n",
      "Training Accuracy = 0.998\n",
      "Validation Accuracy = 0.953\n",
      "\n",
      "EPOCH 34 ...\n",
      "Training Accuracy = 0.997\n",
      "Validation Accuracy = 0.955\n",
      "\n",
      "EPOCH 35 ...\n",
      "Training Accuracy = 0.997\n",
      "Validation Accuracy = 0.955\n",
      "\n",
      "EPOCH 36 ...\n",
      "Training Accuracy = 0.997\n",
      "Validation Accuracy = 0.957\n",
      "\n",
      "EPOCH 37 ...\n",
      "Training Accuracy = 0.998\n",
      "Validation Accuracy = 0.952\n",
      "\n",
      "EPOCH 38 ...\n",
      "Training Accuracy = 0.998\n",
      "Validation Accuracy = 0.956\n",
      "\n",
      "EPOCH 39 ...\n",
      "Training Accuracy = 0.996\n",
      "Validation Accuracy = 0.948\n",
      "\n",
      "EPOCH 40 ...\n",
      "Training Accuracy = 0.998\n",
      "Validation Accuracy = 0.956\n",
      "\n",
      "Model saved\n"
     ]
    },
    {
     "data": {
      "text/plain": [
       "[<matplotlib.lines.Line2D at 0x7fbe5e6ae780>]"
      ]
     },
     "execution_count": 18,
     "metadata": {},
     "output_type": "execute_result"
    },
    {
     "data": {
      "image/png": "[encoded data removed]",
      "text/plain": [
       "<matplotlib.figure.Figure at 0x7fbe5f8699b0>"
      ]
     },
     "metadata": {
      "needs_background": "light"
     },
     "output_type": "display_data"
    }
   ],
   "source": [
    "\"\"\"\n",
    "Here we train our model\n",
    "\"\"\"\n",
    "\n",
    "with tf.Session() as sess:\n",
    "    sess.run(tf.global_variables_initializer())\n",
    "    num_examples = len(X_train)\n",
    "    \n",
    "    print(\"Training...\")\n",
    "    print()\n",
    "    for i in range(EPOCHS):\n",
    "        X_train, y_train = shuffle(X_train, y_train)\n",
    "        for offset in range(0, num_examples, BATCH_SIZE):\n",
    "            end = offset + BATCH_SIZE\n",
    "            batch_x, batch_y = X_train[offset:end], y_train[offset:end]\n",
    "            sess.run(training_operation, feed_dict={x: batch_x, y: batch_y, learning_rate: rate, keep_prob: dropout})\n",
    "            \n",
    "        training_accuracy = evaluate(X_train, y_train, rate, dropout =1)    \n",
    "        validation_accuracy = evaluate(X_valid, y_valid, rate, dropout=1)\n",
    "        print(\"EPOCH {} ...\".format(i+1))\n",
    "        print(\"Training Accuracy = {:.3f}\".format(training_accuracy))\n",
    "        print(\"Validation Accuracy = {:.3f}\".format(validation_accuracy))\n",
    "        print()\n",
    "        valid_acc_record.append(validation_accuracy)\n",
    "        epochs_record.append(i+1)\n",
    "        \n",
    "    saver.save(sess, './lenet')\n",
    "    print(\"Model saved\")\n",
    "    \n",
    "plt.plot(epochs_record,valid_acc_record,'o-')\n"
   ]
  },
  {
   "cell_type": "markdown",
   "metadata": {},
   "source": [
    "## Tuning the Hyper parameters: \n",
    "    \n",
    "Following is a temporary cell which will be used to find optimum values of hyper-parameters\n",
    "\n",
    "\n",
    "Reader has to uncomment the below content to execute this cell.\n",
    "\n",
    "\n",
    "After running multiple tests, I've chosen the values for learning rate, epochs, batch size and have modified the values of these hyper parameters in the above cell."
   ]
  },
  {
   "cell_type": "code",
   "execution_count": 19,
   "metadata": {},
   "outputs": [
    {
     "data": {
      "text/plain": [
       "'\\n\\nfor BATCH_SIZE in values:    # Change2\\n    print()\\n    print(\"Batch size: \", BATCH_SIZE)  # Change3\\n    valid_readings=[]\\n    num_readings=2\\n    counter+=1\\n    #readings = tqdm(range(num_readings), desc=\\'Value {:>2}/{}\\'.format(counter, len(values)), unit=\\'readings\\')\\n    \\n    #for i in readings:\\n    for i in range(num_readings):\\n        print(\"Ongoing reading number\", i+1)\\n        # The accuracy measured against the validation set\\n        validation_accuracy = 0.0\\n\\n        with tf.Session() as sess:\\n            sess.run(tf.global_variables_initializer())\\n            num_examples = len(X_train)\\n\\n            #print(\"Training...\")\\n            #print()\\n            for i in range(EPOCHS):\\n                #print(\"EPOCH {} ...\".format(i+1))\\n                X_train, y_train = shuffle(X_train, y_train)\\n                for offset in range(0, num_examples, BATCH_SIZE):\\n                    end = offset + BATCH_SIZE\\n                    batch_x, batch_y = X_train[offset:end], y_train[offset:end]\\n                    sess.run(training_operation, feed_dict={x: batch_x, y: batch_y, learning_rate: rate, keep_prob: dropout})\\n\\n                validation_accuracy = evaluate(X_valid, y_valid, rate, dropout=1)\\n                #print(\"Validation Accuracy = {:.3f}\".format(validation_accuracy))\\n                #print()\\n\\n        valid_readings.append(validation_accuracy)    \\n    mean = sum(valid_readings) / len(valid_readings)\\n    avg_valid_reads.append(mean)\\n\\n\\nplt.plot(values,avg_valid_reads,\\'o-\\')\\nprint(\"values\", values)\\nprint(\"final validation accuracy\", avg_valid_reads)\\n        \\n    \\n#saver.save(sess, \\'./lenet\\')\\n#print(\"Model saved\")\\n'"
      ]
     },
     "execution_count": 19,
     "metadata": {},
     "output_type": "execute_result"
    }
   ],
   "source": [
    "\"\"\"\n",
    "EPOCHS = 15\n",
    "BATCH_SIZE = 64\n",
    "rate = 0.001\n",
    "dropout = 0.9     # Dropout probability to keep units\n",
    "\n",
    "avg_valid_reads = []\n",
    "counter= 0\n",
    "\n",
    "batch_list = [64, 128, 256, 512]\n",
    "alpha_list = [0.0001, 0.0005, 0.001, 0.005, 0.01, 0.05, 0.1, 0.5, 1]\n",
    "epoch_list = [12, 13, 14, 15, 16, 17, 18]\n",
    "dropout_list = [0.1, 0.2, 0.3, 0.4, 0.5, 0.6, 0.7, 0.8, 0.9, 1]\n",
    "\n",
    "values = batch_list     # Change1\n",
    "\n",
    "\n",
    "# Change1: To change hyperparameter, set values= <list corresponding to that hyperparameter>\n",
    "# Change2: Then change for <official name of your hyperparameter (written on top of this cell)> in values\n",
    "\n",
    "\n",
    "for BATCH_SIZE in values:    # Change2\n",
    "    print()\n",
    "    print(\"Batch size: \", BATCH_SIZE)  # Change3\n",
    "    valid_readings=[]\n",
    "    num_readings=2\n",
    "    counter+=1\n",
    "    #readings = tqdm(range(num_readings), desc='Value {:>2}/{}'.format(counter, len(values)), unit='readings')\n",
    "    \n",
    "    #for i in readings:\n",
    "    for i in range(num_readings):\n",
    "        print(\"Ongoing reading number\", i+1)\n",
    "        # The accuracy measured against the validation set\n",
    "        validation_accuracy = 0.0\n",
    "\n",
    "        with tf.Session() as sess:\n",
    "            sess.run(tf.global_variables_initializer())\n",
    "            num_examples = len(X_train)\n",
    "\n",
    "            #print(\"Training...\")\n",
    "            #print()\n",
    "            for i in range(EPOCHS):\n",
    "                #print(\"EPOCH {} ...\".format(i+1))\n",
    "                X_train, y_train = shuffle(X_train, y_train)\n",
    "                for offset in range(0, num_examples, BATCH_SIZE):\n",
    "                    end = offset + BATCH_SIZE\n",
    "                    batch_x, batch_y = X_train[offset:end], y_train[offset:end]\n",
    "                    sess.run(training_operation, feed_dict={x: batch_x, y: batch_y, learning_rate: rate, keep_prob: dropout})\n",
    "\n",
    "                validation_accuracy = evaluate(X_valid, y_valid, rate, dropout=1)\n",
    "                #print(\"Validation Accuracy = {:.3f}\".format(validation_accuracy))\n",
    "                #print()\n",
    "\n",
    "        valid_readings.append(validation_accuracy)    \n",
    "    mean = sum(valid_readings) / len(valid_readings)\n",
    "    avg_valid_reads.append(mean)\n",
    "\n",
    "\n",
    "plt.plot(values,avg_valid_reads,'o-')\n",
    "print(\"values\", values)\n",
    "print(\"final validation accuracy\", avg_valid_reads)\n",
    "        \n",
    "    \n",
    "#saver.save(sess, './lenet')\n",
    "#print(\"Model saved\")\n",
    "\"\"\""
   ]
  },
  {
   "cell_type": "code",
   "execution_count": 18,
   "metadata": {},
   "outputs": [
    {
     "name": "stdout",
     "output_type": "stream",
     "text": [
      "INFO:tensorflow:Restoring parameters from ./lenet\n",
      "Test Accuracy = 0.935\n"
     ]
    }
   ],
   "source": [
    "with tf.Session() as sess:\n",
    "    saver.restore(sess, tf.train.latest_checkpoint('.'))\n",
    "\n",
    "    test_accuracy = evaluate(X_test, y_test, rate, dropout=1)\n",
    "    print(\"Test Accuracy = {:.3f}\".format(test_accuracy))\n"
   ]
  },
  {
   "cell_type": "markdown",
   "metadata": {},
   "source": [
    "---\n",
    "\n",
    "## Step 3: Test a Model on New Images\n",
    "\n",
    "To give yourself more insight into how your model is working, download at least five pictures of German traffic signs from the web and use your model to predict the traffic sign type.\n",
    "\n",
    "You may find `signnames.csv` useful as it contains mappings from the class id (integer) to the actual sign name."
   ]
  },
  {
   "cell_type": "markdown",
   "metadata": {},
   "source": [
    "### Load and Output the Images"
   ]
  },
  {
   "cell_type": "code",
   "execution_count": 24,
   "metadata": {},
   "outputs": [
    {
     "name": "stdout",
     "output_type": "stream",
     "text": [
      "Original Dimension of each test image :  (250, 285, 3)\n",
      "Dimension after processing of X matrix:  (5, 32, 32, 1) \n",
      "\n",
      "Here's an example of one of the input images after pre-processing: \n"
     ]
    },
    {
     "data": {
      "image/png": "[encoded data removed]",
      "text/plain": [
       "<matplotlib.figure.Figure at 0x7f4f2d62e5c0>"
      ]
     },
     "metadata": {
      "needs_background": "light"
     },
     "output_type": "display_data"
    }
   ],
   "source": [
    "import cv2\n",
    "import matplotlib.pyplot as plt\n",
    "%matplotlib inline\n",
    "\n",
    "img1 = cv2.imread('1_double_curve.jpg', cv2.IMREAD_UNCHANGED)\n",
    "img2 = cv2.imread('2_no entry.jpg', cv2.IMREAD_UNCHANGED)\n",
    "img3 = cv2.imread('3_slippery_road.jpg', cv2.IMREAD_UNCHANGED)\n",
    "img4 = cv2.imread('4_speed limit 20.jpg', cv2.IMREAD_UNCHANGED)\n",
    "img5 = cv2.imread('5_stop.jpg', cv2.IMREAD_UNCHANGED)\n",
    " \n",
    "print('Original Dimension of each test image : ',img1.shape)\n",
    "\n",
    "img_arr = np.array(([img1, img2, img3, img4, img5]))\n",
    "\n",
    "X_my_test = np.zeros((5,32,32,3))       #This will contain the pixel data for all our 5 colored image which will be fed to this after reducing the dimension to 32x32\n",
    "y_my_test = np.array([21,17,23,0,14])    #This contains the labels for the sample images\n",
    "\n",
    "\n",
    "for idx, img in enumerate(img_arr):\n",
    "    \"\"\"\n",
    "    This resizes the images and feed them into X_my_test variable\n",
    "    \"\"\"\n",
    "    \n",
    "    width = int(32)\n",
    "    height = int(32)\n",
    "    dim = (width, height)\n",
    "    # resize image\n",
    "    img = cv2.resize(img, dim, interpolation = cv2.INTER_AREA)\n",
    "    \n",
    "    X_my_test[idx] = img\n",
    "    \n",
    "\n",
    "X_my_test = normalize(X_my_test)\n",
    "print(\"Dimension after processing of X matrix: \",np.shape(X_my_test),\"\\n\")\n",
    "\n",
    "plt.imshow(X_my_test[0].squeeze(), cmap='gray')  \n",
    "print(\"Here's an example of one of the input images after pre-processing: \")"
   ]
  },
  {
   "cell_type": "markdown",
   "metadata": {},
   "source": [
    "\n",
    "### Predict the Sign Type for Each Image"
   ]
  },
  {
   "cell_type": "code",
   "execution_count": 20,
   "metadata": {},
   "outputs": [
    {
     "name": "stdout",
     "output_type": "stream",
     "text": [
      "INFO:tensorflow:Restoring parameters from ./lenet\n",
      "Here's the prediction:\n",
      " [21 17 23  0 18]\n",
      "['Double curve', 'No entry', 'Slippery road', 'Speed limit (20km/h)', 'General caution']\n"
     ]
    }
   ],
   "source": [
    "### Run the predictions here and use the model to output the prediction for each image.\n",
    "\n",
    "# Printing the predictions by the model \n",
    "\n",
    "with tf.Session() as sess:\n",
    "    saver.restore(sess, tf.train.latest_checkpoint('.'))\n",
    "    predicted_sign = sess.run(tf.argmax(logits, 1), feed_dict={x: X_my_test, keep_prob: 1})    #This gives the prediction by returning the argument of the maximum activation for each images logits \n",
    "    print(\"Here's the prediction:\\n\", predicted_sign)     # Each argument that we get from above is actually the traffic sign_code for each image\n",
    "    sign_names = [ signs[sign_code] for sign_code in predicted_sign ]     #We're putting sign_code in the sign list's argument to extract the name of the sign\n",
    "    print(sign_names)\n",
    "    \n",
    "## Correct answer should be: [21,17,23,0,14]\n",
    "## and ['Double curve', 'No entry', 'Slippery road', 'Speed limit (20km/h)', 'Stop']"
   ]
  },
  {
   "cell_type": "markdown",
   "metadata": {},
   "source": [
    "### Analyze Performance"
   ]
  },
  {
   "cell_type": "code",
   "execution_count": 21,
   "metadata": {},
   "outputs": [
    {
     "name": "stdout",
     "output_type": "stream",
     "text": [
      "INFO:tensorflow:Restoring parameters from ./lenet\n",
      "Test Accuracy = 80.00%\n"
     ]
    }
   ],
   "source": [
    "### Calculate the accuracy for these 5 new images. \n",
    "### For example, if the model predicted 1 out of 5 signs correctly, it's 20% accurate on these new images.\n",
    "\n",
    "with tf.Session() as sess:\n",
    "    saver.restore(sess, tf.train.latest_checkpoint('.'))\n",
    "\n",
    "    test_accuracy = evaluate(X_my_test, y_my_test, rate, dropout=1)\n",
    "    print(\"Test Accuracy = {:.2f}%\".format(test_accuracy*100))\n"
   ]
  },
  {
   "cell_type": "markdown",
   "metadata": {},
   "source": [
    "### Output Top 5 Softmax Probabilities For Each Image Found on the Web"
   ]
  },
  {
   "cell_type": "markdown",
   "metadata": {},
   "source": [
    "For each of the new images, print out the model's softmax probabilities to show the **certainty** of the model's predictions (limit the output to the top 5 probabilities for each image). [`tf.nn.top_k`](https://www.tensorflow.org/versions/r0.12/api_docs/python/nn.html#top_k) could prove helpful here. \n",
    "\n",
    "The example below demonstrates how tf.nn.top_k can be used to find the top k predictions for each image.\n",
    "\n",
    "`tf.nn.top_k` will return the values and indices (class ids) of the top k predictions. So if k=3, for each sign, it'll return the 3 largest probabilities (out of a possible 43) and the correspoding class ids.\n",
    "\n",
    "Take this numpy array as an example. The values in the array represent predictions. The array contains softmax probabilities for five candidate images with six possible classes. `tf.nn.top_k` is used to choose the three classes with the highest probability:\n",
    "\n",
    "```\n",
    "# (5, 6) array\n",
    "a = np.array([[ 0.24879643,  0.07032244,  0.12641572,  0.34763842,  0.07893497,\n",
    "         0.12789202],\n",
    "       [ 0.28086119,  0.27569815,  0.08594638,  0.0178669 ,  0.18063401,\n",
    "         0.15899337],\n",
    "       [ 0.26076848,  0.23664738,  0.08020603,  0.07001922,  0.1134371 ,\n",
    "         0.23892179],\n",
    "       [ 0.11943333,  0.29198961,  0.02605103,  0.26234032,  0.1351348 ,\n",
    "         0.16505091],\n",
    "       [ 0.09561176,  0.34396535,  0.0643941 ,  0.16240774,  0.24206137,\n",
    "         0.09155967]])\n",
    "```\n",
    "\n",
    "Running it through `sess.run(tf.nn.top_k(tf.constant(a), k=3))` produces:\n",
    "\n",
    "```\n",
    "TopKV2(values=array([[ 0.34763842,  0.24879643,  0.12789202],\n",
    "       [ 0.28086119,  0.27569815,  0.18063401],\n",
    "       [ 0.26076848,  0.23892179,  0.23664738],\n",
    "       [ 0.29198961,  0.26234032,  0.16505091],\n",
    "       [ 0.34396535,  0.24206137,  0.16240774]]), indices=array([[3, 0, 5],\n",
    "       [0, 1, 4],\n",
    "       [0, 5, 1],\n",
    "       [1, 3, 5],\n",
    "       [1, 4, 3]], dtype=int32))\n",
    "```\n",
    "\n",
    "Looking just at the first row we get `[ 0.34763842,  0.24879643,  0.12789202]`, you can confirm these are the 3 largest probabilities in `a`. You'll also notice `[3, 0, 5]` are the corresponding indices."
   ]
  },
  {
   "cell_type": "code",
   "execution_count": 22,
   "metadata": {},
   "outputs": [
    {
     "name": "stdout",
     "output_type": "stream",
     "text": [
      "INFO:tensorflow:Restoring parameters from ./lenet\n",
      "TopKV2(values=array([[  9.22236621e-01,   4.55672666e-02,   9.33372881e-03,\n",
      "          8.58219061e-03,   6.52276911e-03],\n",
      "       [  1.00000000e+00,   3.13248904e-20,   1.53604191e-26,\n",
      "          7.44218150e-30,   3.55160856e-34],\n",
      "       [  1.00000000e+00,   3.79198842e-13,   3.33321568e-15,\n",
      "          4.35021057e-19,   1.73662256e-20],\n",
      "       [  7.16898978e-01,   2.83093363e-01,   7.55058454e-06,\n",
      "          1.19388488e-07,   5.41705392e-09],\n",
      "       [  6.83056891e-01,   2.33628318e-01,   4.55737486e-02,\n",
      "          3.36024500e-02,   2.08267919e-03]], dtype=float32), indices=array([[21, 19, 23, 30, 24],\n",
      "       [17, 14, 34,  0, 38],\n",
      "       [23, 19, 20,  3, 11],\n",
      "       [ 0,  8, 38,  4,  5],\n",
      "       [18, 25, 26, 11, 12]], dtype=int32))\n"
     ]
    }
   ],
   "source": [
    "### Print out the top five softmax probabilities for the predictions on the German traffic sign images found on the web. \n",
    "\n",
    "with tf.Session() as sess:\n",
    "    saver.restore(sess, tf.train.latest_checkpoint('.'))\n",
    "    \"\"\"logit_val = sess.run(logits, feed_dict={x: X_my_test, keep_prob: 1})\"\"\"  #This is wrong because it takes logits and not probabilities\n",
    "    a = sess.run(tf.nn.softmax(logits), feed_dict={x: X_my_test, keep_prob: 1})\n",
    "\n",
    "    #print(logit_val) \n",
    "    softmax_prob = sess.run(tf.nn.top_k(tf.constant(a), k=5))\n",
    "    print(softmax_prob)"
   ]
  },
  {
   "cell_type": "code",
   "execution_count": 30,
   "metadata": {},
   "outputs": [
    {
     "name": "stdout",
     "output_type": "stream",
     "text": [
      "General caution\n",
      "Road work\n",
      "Traffic signals\n",
      "Right-of-way at the next intersection\n",
      "Priority road\n"
     ]
    }
   ],
   "source": [
    "\n",
    "for a in [18, 25, 26, 11, 12]:\n",
    "    print(signs[a])"
   ]
  },
  {
   "cell_type": "markdown",
   "metadata": {},
   "source": [
    "### Project Writeup\n",
    "\n",
    "Once you have completed the code implementation, document your results in a project writeup using this [template](https://github.com/udacity/CarND-Traffic-Sign-Classifier-Project/blob/master/writeup_template.md) as a guide. The writeup can be in a markdown or pdf file. "
   ]
  },
  {
   "cell_type": "markdown",
   "metadata": {},
   "source": [
    "> **Note**: Once you have completed all of the code implementations and successfully answered each question above, you may finalize your work by exporting the iPython Notebook as an HTML document. You can do this by using the menu above and navigating to  \\n\",\n",
    "    \"**File -> Download as -> HTML (.html)**. Include the finished document along with this notebook as your submission."
   ]
  },
  {
   "cell_type": "markdown",
   "metadata": {},
   "source": [
    "---\n",
    "\n",
    "## Step 4 (Optional): Visualize the Neural Network's State with Test Images\n",
    "\n",
    " This Section is not required to complete but acts as an additional excersise for understaning the output of a neural network's weights. While neural networks can be a great learning device they are often referred to as a black box. We can understand what the weights of a neural network look like better by plotting their feature maps. After successfully training your neural network you can see what it's feature maps look like by plotting the output of the network's weight layers in response to a test stimuli image. From these plotted feature maps, it's possible to see what characteristics of an image the network finds interesting. For a sign, maybe the inner network feature maps react with high activation to the sign's boundary outline or to the contrast in the sign's painted symbol.\n",
    "\n",
    " Provided for you below is the function code that allows you to get the visualization output of any tensorflow weight layer you want. The inputs to the function should be a stimuli image, one used during training or a new one you provided, and then the tensorflow variable name that represents the layer's state during the training process, for instance if you wanted to see what the [LeNet lab's](https://classroom.udacity.com/nanodegrees/nd013/parts/fbf77062-5703-404e-b60c-95b78b2f3f9e/modules/6df7ae49-c61c-4bb2-a23e-6527e69209ec/lessons/601ae704-1035-4287-8b11-e2c2716217ad/concepts/d4aca031-508f-4e0b-b493-e7b706120f81) feature maps looked like for it's second convolutional layer you could enter conv2 as the tf_activation variable.\n",
    "\n",
    "For an example of what feature map outputs look like, check out NVIDIA's results in their paper [End-to-End Deep Learning for Self-Driving Cars](https://devblogs.nvidia.com/parallelforall/deep-learning-self-driving-cars/) in the section Visualization of internal CNN State. NVIDIA was able to show that their network's inner weights had high activations to road boundary lines by comparing feature maps from an image with a clear path to one without. Try experimenting with a similar test to show that your trained network's weights are looking for interesting features, whether it's looking at differences in feature maps from images with or without a sign, or even what feature maps look like in a trained network vs a completely untrained one on the same sign image.\n",
    "\n",
    "<figure>\n",
    " <img src=\"visualize_cnn.png\" width=\"380\" alt=\"Combined Image\" />\n",
    " <figcaption>\n",
    " <p></p> \n",
    " <p style=\"text-align: center;\"> Your output should look something like this (above)</p> \n",
    " </figcaption>\n",
    "</figure>\n",
    " <p></p> \n"
   ]
  },
  {
   "cell_type": "code",
   "execution_count": 25,
   "metadata": {},
   "outputs": [],
   "source": [
    "### Visualize your network's feature maps here.\n",
    "### Feel free to use as many code cells as needed.\n",
    "\n",
    "# image_input: the test image being fed into the network to produce the feature maps\n",
    "# tf_activation: should be a tf variable name used during your training procedure that represents the calculated state of a specific weight layer\n",
    "# activation_min/max: can be used to view the activation contrast in more detail, by default matplot sets min and max to the actual min and max values of the output\n",
    "# plt_num: used to plot out multiple different weight feature map sets on the same block, just extend the plt number for each new feature map entry\n",
    "\n",
    "def outputFeatureMap(image_input, tf_activation, activation_min=-1, activation_max=-1 ,plt_num=1):\n",
    "    # Here make sure to preprocess your image_input in a way your network expects\n",
    "    # with size, normalization, ect if needed\n",
    "    # image_input =\n",
    "    # Note: x should be the same name as your network's tensorflow data placeholder variable\n",
    "    # If you get an error tf_activation is not defined it may be having trouble accessing the variable from inside a function\n",
    "    activation = tf_activation.eval(session=sess,feed_dict={x : image_input})\n",
    "    featuremaps = activation.shape[3]\n",
    "    plt.figure(plt_num, figsize=(15,15))\n",
    "    for featuremap in range(featuremaps):\n",
    "        plt.subplot(6,8, featuremap+1) # sets the number of feature maps to show on each row and column\n",
    "        plt.title('FeatureMap ' + str(featuremap)) # displays the feature map number\n",
    "        if activation_min != -1 & activation_max != -1:\n",
    "            plt.imshow(activation[0,:,:, featuremap], interpolation=\"nearest\", vmin =activation_min, vmax=activation_max, cmap=\"gray\")\n",
    "        elif activation_max != -1:\n",
    "            plt.imshow(activation[0,:,:, featuremap], interpolation=\"nearest\", vmax=activation_max, cmap=\"gray\")\n",
    "        elif activation_min !=-1:\n",
    "            plt.imshow(activation[0,:,:, featuremap], interpolation=\"nearest\", vmin=activation_min, cmap=\"gray\")\n",
    "        else:\n",
    "            plt.imshow(activation[0,:,:, featuremap], interpolation=\"nearest\", cmap=\"gray\")"
   ]
  }
 ],
 "metadata": {
  "anaconda-cloud": {},
  "kernelspec": {
   "display_name": "Python 3",
   "language": "python",
   "name": "python3"
  },
  "language_info": {
   "codemirror_mode": {
    "name": "ipython",
    "version": 3
   },
   "file_extension": ".py",
   "mimetype": "text/x-python",
   "name": "python",
   "nbconvert_exporter": "python",
   "pygments_lexer": "ipython3",
   "version": "3.6.3"
  }
 },
 "nbformat": 4,
 "nbformat_minor": 1
}
